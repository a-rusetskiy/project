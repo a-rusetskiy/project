{
  "nbformat": 4,
  "nbformat_minor": 0,
  "metadata": {
    "colab": {
      "name": "quotes[2020].ipynb",
      "provenance": [],
      "collapsed_sections": []
    },
    "kernelspec": {
      "display_name": "Python 3",
      "language": "python",
      "name": "python3"
    },
    "language_info": {
      "codemirror_mode": {
        "name": "ipython",
        "version": 3
      },
      "file_extension": ".py",
      "mimetype": "text/x-python",
      "name": "python",
      "nbconvert_exporter": "python",
      "pygments_lexer": "ipython3",
      "version": "3.7.0"
    },
    "latex_envs": {
      "bibliofile": "biblio.bib",
      "cite_by": "apalike",
      "current_citInitial": 1,
      "eqLabelWithNumbers": true,
      "eqNumInitial": 0
    },
    "accelerator": "GPU"
  },
  "cells": [
    {
      "cell_type": "markdown",
      "metadata": {
        "id": "WBS4f_jBhhDQ"
      },
      "source": [
        "## Генерация текстов \n",
        "*Необходимо реализовать модель, генерирующую текста. В качестве данных возьмем сборник цитат умных людей.*\n",
        "\n",
        "[cсылка на датасет](https://github.com/alvations/Quotables/blob/master/author-quote.txt)\n",
        "\n"
      ]
    },
    {
      "cell_type": "markdown",
      "metadata": {
        "id": "9xs4mJdJm37v"
      },
      "source": [
        "Будем использовать двухслойную рекуррентную нейронную сеть $LSTM$ с двумя линейными слоями на выходе.\n",
        "На вход модели будем продавать вектора, которые являются результатом работы алгоритма word2vec\n"
      ]
    },
    {
      "cell_type": "code",
      "metadata": {
        "id": "LJEU-kgmRT76"
      },
      "source": [
        "import numpy as np\n",
        "import matplotlib.pyplot as plt\n",
        "import re\n",
        "import torch\n",
        "from torch import nn\n",
        "from torch.utils.data import Dataset, DataLoader\n",
        "from IPython.display import clear_output\n",
        "import gensim\n",
        "import gensim.downloader\n",
        "%matplotlib inline"
      ],
      "execution_count": null,
      "outputs": []
    },
    {
      "cell_type": "markdown",
      "metadata": {
        "id": "VswZAv3kppj0"
      },
      "source": [
        "#### Загрузка и предобраотка текста"
      ]
    },
    {
      "cell_type": "code",
      "metadata": {
        "colab": {
          "base_uri": "https://localhost:8080/"
        },
        "id": "HQMpo7CARp0j",
        "outputId": "d83a926f-85fd-4d9a-eb45-ee90b9642f12"
      },
      "source": [
        "!wget https://raw.githubusercontent.com/alvations/Quotables/master/author-quote.txt"
      ],
      "execution_count": null,
      "outputs": [
        {
          "output_type": "stream",
          "text": [
            "--2020-12-07 16:20:07--  https://raw.githubusercontent.com/alvations/Quotables/master/author-quote.txt\n",
            "Resolving raw.githubusercontent.com (raw.githubusercontent.com)... 151.101.0.133, 151.101.64.133, 151.101.128.133, ...\n",
            "Connecting to raw.githubusercontent.com (raw.githubusercontent.com)|151.101.0.133|:443... connected.\n",
            "HTTP request sent, awaiting response... 200 OK\n",
            "Length: 5615127 (5.4M) [text/plain]\n",
            "Saving to: ‘author-quote.txt’\n",
            "\n",
            "author-quote.txt    100%[===================>]   5.35M  --.-KB/s    in 0.1s    \n",
            "\n",
            "2020-12-07 16:20:07 (38.4 MB/s) - ‘author-quote.txt’ saved [5615127/5615127]\n",
            "\n"
          ],
          "name": "stdout"
        }
      ]
    },
    {
      "cell_type": "code",
      "metadata": {
        "id": "Dghy8eWrQFNx"
      },
      "source": [
        "lines = [re.sub('[^a-z -]', '', x.split('\\t')[1].lower()).split() \n",
        "         for x in open('author-quote.txt').readlines()]"
      ],
      "execution_count": null,
      "outputs": []
    },
    {
      "cell_type": "code",
      "metadata": {
        "colab": {
          "base_uri": "https://localhost:8080/",
          "height": 298
        },
        "id": "ewXM1XBinbJ2",
        "outputId": "8b39f30b-381c-456f-dcc4-5508427758f0"
      },
      "source": [
        "print('Всего цитат: {}'.format(len(lines)))\n",
        "\n",
        "plt.hist(list(map(len, lines)), bins=100)\n",
        "plt.title('Распределение слов в цитатах');"
      ],
      "execution_count": null,
      "outputs": [
        {
          "output_type": "stream",
          "text": [
            "Всего цитат: 39269\n"
          ],
          "name": "stdout"
        },
        {
          "output_type": "display_data",
          "data": {
            "image/png": "[encoded data removed]",
            "text/plain": [
              "<Figure size 432x288 with 1 Axes>"
            ]
          },
          "metadata": {
            "tags": [],
            "needs_background": "light"
          }
        }
      ]
    },
    {
      "cell_type": "code",
      "metadata": {
        "colab": {
          "base_uri": "https://localhost:8080/"
        },
        "id": "62rE4HZERT8r",
        "outputId": "0063a42a-55f4-41d7-c177-5b7ad38d8be2"
      },
      "source": [
        "np.random.seed(777)\n",
        "torch.manual_seed(777)"
      ],
      "execution_count": null,
      "outputs": [
        {
          "output_type": "execute_result",
          "data": {
            "text/plain": [
              "<torch._C.Generator at 0x7f30f607cb10>"
            ]
          },
          "metadata": {
            "tags": []
          },
          "execution_count": 5
        }
      ]
    },
    {
      "cell_type": "code",
      "metadata": {
        "id": "V12a2iC6RT8w"
      },
      "source": [
        "class Vocabulary():\n",
        "    def __init__(self, sentences):\n",
        "        all_words = set()\n",
        "        for line in sentences:\n",
        "            all_words |= set(line)\n",
        "\n",
        "        all_words = list(sorted(all_words)) + ['<go>', '<eos>']\n",
        "\n",
        "        self.word_to_id = {x[1]: x[0]\n",
        "                           for x in enumerate(all_words)}\n",
        "\n",
        "        self.id_to_word = {x[0]: x[1]\n",
        "                           for x in enumerate(all_words)}\n",
        "\n",
        "        self.size = len(all_words)\n",
        "\n",
        "    def encode(self, line):\n",
        "        return [self.word_to_id[x] for x in line]\n",
        "    \n",
        "    def decode(self, tokens):\n",
        "        return ' '.join([self.id_to_word[x] for x in tokens])\n",
        "\n",
        "\n",
        "vocab = Vocabulary(lines)"
      ],
      "execution_count": null,
      "outputs": []
    },
    {
      "cell_type": "code",
      "metadata": {
        "id": "P0jbS2dnRT8_"
      },
      "source": [
        "class Quotes(Dataset):\n",
        "    def __init__(self, lines, vocab):\n",
        "        self.lines = lines\n",
        "        self.vocab = vocab\n",
        "        self.go = self.vocab.word_to_id['<go>']\n",
        "        self.eos = self.vocab.word_to_id['<eos>']\n",
        "\n",
        "    def __len__(self):\n",
        "        return len(self.lines)\n",
        "\n",
        "    def __getitem__(self, idx):\n",
        "        tokens = self.vocab.encode(self.lines[idx])\n",
        "        _input = np.array([self.go] + tokens)\n",
        "        _output = np.array(tokens + [self.eos])\n",
        "        return _input, _output\n",
        "\n",
        "\n",
        "dataset = Quotes(lines, vocab)"
      ],
      "execution_count": null,
      "outputs": []
    },
    {
      "cell_type": "code",
      "metadata": {
        "id": "TypYWVvLRT9F"
      },
      "source": [
        "def compose_batch(batch):\n",
        "    lengths = np.array([len(x[0]) for x in batch])\n",
        "    order = np.argsort(-lengths)\n",
        "    go = torch.zeros(len(batch), lengths[order[0]]).long()\n",
        "    eos = torch.zeros(len(batch), lengths[order[0]]).long()\n",
        "    mask = torch.zeros(len(batch), lengths[order[0]]).long()\n",
        "    for i in range(len(batch)):\n",
        "        current_go, current_eos = batch[i]\n",
        "        go[i, :len(current_go)] = torch.tensor(current_go)\n",
        "        eos[i, :len(current_eos)] = torch.tensor(current_eos)\n",
        "        mask[i, :len(current_go)] = 1\n",
        "    mask = mask[order]\n",
        "    go = go[order]\n",
        "    eos = eos[order]\n",
        "    lengths = lengths[order]\n",
        "    return go, eos, mask, lengths"
      ],
      "execution_count": null,
      "outputs": []
    },
    {
      "cell_type": "code",
      "metadata": {
        "id": "09BKBOt6RT9P"
      },
      "source": [
        "train_size = int(len(dataset) * 0.85)\n",
        "test_size = len(dataset) - train_size\n",
        "train, test = torch.utils.data.random_split(dataset, [train_size, test_size])\n",
        "\n",
        "train_dataloader = DataLoader(train, shuffle=True,\n",
        "                              batch_size=64,\n",
        "                              collate_fn=compose_batch, \n",
        "                              drop_last=True)\n",
        "\n",
        "test_dataloader = DataLoader(test, shuffle=True,\n",
        "                             batch_size=64,\n",
        "                             collate_fn=compose_batch, \n",
        "                             drop_last=True)"
      ],
      "execution_count": null,
      "outputs": []
    },
    {
      "cell_type": "markdown",
      "metadata": {
        "id": "aGpY6GymRT9T"
      },
      "source": [
        "#### Создание модели"
      ]
    },
    {
      "cell_type": "code",
      "metadata": {
        "id": "icrwdrvhRT9U"
      },
      "source": [
        "class RNN(nn.Module):\n",
        "    def __init__(self, vocabulary_size, batch_size=64, embedding_size=128, hidden_size=256, layers=2, pretrained_emb=None):\n",
        "        super().__init__()\n",
        "        self.batch_size = batch_size\n",
        "        self.embedding_size = embedding_size\n",
        "        self.layers = layers\n",
        "        self.hidden_size = hidden_size\n",
        "\n",
        "        if pretrained_emb is not None:\n",
        "            self.embedding = nn.Embedding.from_pretrained(pretrained_emb, freeze=False)\n",
        "        else:\n",
        "            self.embedding = nn.Embedding(vocabulary_size, embedding_size)        \n",
        "\n",
        "        self.lstm = nn.LSTM(embedding_size, hidden_size, layers)\n",
        "        \n",
        "        self.classifier = nn.Sequential(nn.Linear(hidden_size, 2*hidden_size), nn.Linear(2*hidden_size, vocabulary_size))\n",
        "\n",
        "    def forward(self, _input, lengths):\n",
        "        embedding = self.embedding(_input).transpose(0, 1)\n",
        "        embedding = nn.utils.rnn.pack_padded_sequence(embedding, lengths)\n",
        "        hidden_cell = (torch.zeros(self.layers, self.batch_size, self.hidden_size).cuda(),\n",
        "                       torch.zeros(self.layers, self.batch_size, self.hidden_size).cuda())\n",
        "        \n",
        "        output, _ = self.lstm(embedding, hidden_cell)\n",
        "        output, _ = nn.utils.rnn.pad_packed_sequence(output)\n",
        "        classes = self.classifier(output)\n",
        "        return classes\n",
        "\n",
        "    def generate(self, vocab, max_len=500):\n",
        "        hidden_cell = (torch.zeros(self.layers, 1, self.hidden_size),\n",
        "                       torch.zeros(self.layers, 1, self.hidden_size))\n",
        "        current_token = '<go>'\n",
        "        line = ''\n",
        "        while (current_token != '<eos>') and \\\n",
        "               len(line) < max_len:\n",
        "            token = torch.tensor([[vocab.word_to_id[current_token]]]).long()\n",
        "            token_id = token.detach()\n",
        "            embedding = self.embedding(token_id)\n",
        "            output, hidden_cell = self.lstm(embedding, hidden_cell)\n",
        "            classes = self.classifier(output[0])\n",
        "            classes_probs = nn.Softmax()(classes)\n",
        "            sampler = torch.distributions.Categorical(classes_probs[0])\n",
        "            new_token_id = sampler.sample().data.numpy().item()\n",
        "            current_token = vocab.id_to_word[new_token_id]\n",
        "            line = line + current_token + ' ' \n",
        "        return line"
      ],
      "execution_count": null,
      "outputs": []
    },
    {
      "cell_type": "code",
      "metadata": {
        "id": "s9MjLzNr2DBA"
      },
      "source": [
        "# model = RNN(vocab.size, batch_size=64,\n",
        "#             embedding_size=300,\n",
        "#             hidden_size=512, layers=2)    "
      ],
      "execution_count": null,
      "outputs": []
    },
    {
      "cell_type": "code",
      "metadata": {
        "id": "WWQpzazMbjed",
        "colab": {
          "base_uri": "https://localhost:8080/"
        },
        "outputId": "60fec721-f43d-40e3-a1d7-9567b2e4d9da"
      },
      "source": [
        "embedding_size = 300\n",
        "w2v_model = gensim.downloader.load('glove-wiki-gigaword-' + str(embedding_size))"
      ],
      "execution_count": null,
      "outputs": [
        {
          "output_type": "stream",
          "text": [
            "[==================================================] 100.0% 376.1/376.1MB downloaded\n"
          ],
          "name": "stdout"
        }
      ]
    },
    {
      "cell_type": "code",
      "metadata": {
        "id": "cO5KFU6PeGh3",
        "colab": {
          "base_uri": "https://localhost:8080/"
        },
        "outputId": "99554936-2e8a-4e76-b736-4681ef2a8437"
      },
      "source": [
        "embed_matrix = list()\n",
        "bad_words = 0\n",
        "for i in range(vocab.size):\n",
        "    word = vocab.id_to_word[i]\n",
        "    try:\n",
        "        vec = w2v_model.wv[word]\n",
        "    except KeyError:\n",
        "        vec = np.random.rand(embedding_size)\n",
        "        bad_words += 1\n",
        "    embed_matrix.append(vec)  \n",
        "\n",
        "print('Word2vec не понял примерно {:.2}% слов\\\n",
        "\\nЗаменим их на случайные вектора\\n'.format(bad_words/vocab.size * 100))"
      ],
      "execution_count": null,
      "outputs": [
        {
          "output_type": "stream",
          "text": [
            "Word2vec не понял примерно 6.3% слов\n",
            "Заменим их на случайные вектора\n",
            "\n"
          ],
          "name": "stdout"
        },
        {
          "output_type": "stream",
          "text": [
            "/usr/local/lib/python3.6/dist-packages/ipykernel_launcher.py:6: DeprecationWarning: Call to deprecated `wv` (Attribute will be removed in 4.0.0, use self instead).\n",
            "  \n"
          ],
          "name": "stderr"
        }
      ]
    },
    {
      "cell_type": "code",
      "metadata": {
        "id": "-6mX0aZIRT9Z"
      },
      "source": [
        "model = RNN(vocab.size,\n",
        "            embedding_size=embedding_size,\n",
        "            hidden_size=512, layers=2, pretrained_emb=torch.from_numpy(np.array(embed_matrix, dtype=np.float32)))   \n",
        "\n",
        "model = model.cuda()"
      ],
      "execution_count": null,
      "outputs": []
    },
    {
      "cell_type": "markdown",
      "metadata": {
        "id": "-x9udO-ZRT9g"
      },
      "source": [
        "#### Обучение модели и получения предсказания"
      ]
    },
    {
      "cell_type": "code",
      "metadata": {
        "id": "pUN95nEWRT90",
        "scrolled": false
      },
      "source": [
        "def train(epoch, lerning_rate):\n",
        "    optimizer = torch.optim.RMSprop(model.parameters(), lr=lerning_rate, weight_decay=1e-5)\n",
        "    criterion = nn.CrossEntropyLoss(reduction='none')\n",
        "    train_losses, test_losses = list(), list()\n",
        "    try:\n",
        "        for num in range(1, epoch+1):\n",
        "            train_loss_epoch, test_loss_epoch = list(), list()\n",
        "            for i, (go, eos, mask, length) in enumerate(train_dataloader):\n",
        "                go = go.cuda()\n",
        "                eos = eos.cuda()\n",
        "                mask = mask.cuda()\n",
        "\n",
        "                model.zero_grad()\n",
        "                prediction = model(go, length).transpose(0, 1).transpose(1, 2)\n",
        "                loss = (criterion(prediction, eos)*mask.float()).sum()\n",
        "                loss = loss / mask.sum()\n",
        "                loss.backward()\n",
        "                [x.grad.clamp_(-1, 1) for x in model.parameters() if x.grad is not None]\n",
        "                optimizer.step()\n",
        "                train_loss_epoch.append(np.exp(loss.cpu().item()))\n",
        "\n",
        "                go, eos, mask, length = next(iter(test_dataloader))\n",
        "                go = go.cuda()\n",
        "                eos = eos.cuda()\n",
        "                mask = mask.cuda()\n",
        "                prediction = model(go, length).transpose(0, 1).transpose(1, 2)\n",
        "                loss = (criterion(prediction, eos)*mask.float()).sum()\n",
        "                loss = loss / mask.sum()\n",
        "                test_loss_epoch.append(np.exp(loss.cpu().item()))\n",
        "\n",
        "            train_losses.append(np.mean(train_loss_epoch))\n",
        "            test_losses.append(np.mean(test_loss_epoch))\n",
        "\n",
        "            clear_output(True)\n",
        "            plt.figure(figsize=(15, 5))\n",
        "            plt.plot(train_losses, label='Train', linestyle = '-', marker = '.')\n",
        "            plt.plot(test_losses, label='Test', linestyle = '-', marker = '.')\n",
        "            plt.xlabel('Iteration')\n",
        "            plt.ylabel('Perplexity')\n",
        "            plt.title('Epoch: {0}     (Train/Test) loss: {1:.3f}/{2:.3f}'.format(\n",
        "                       num, train_losses[-1], test_losses[-1]))\n",
        "            plt.grid(True)\n",
        "            plt.legend()\n",
        "            plt.show()\n",
        "    except KeyboardInterrupt:\n",
        "        pass"
      ],
      "execution_count": null,
      "outputs": []
    },
    {
      "cell_type": "code",
      "metadata": {
        "colab": {
          "base_uri": "https://localhost:8080/",
          "height": 350
        },
        "id": "7BBu5EGbCC45",
        "outputId": "2a9b4c9a-5c15-45fd-bc66-839d0ca2dec1"
      },
      "source": [
        "train(15, 0.0001)"
      ],
      "execution_count": null,
      "outputs": [
        {
          "output_type": "display_data",
          "data": {
            "image/png": "[encoded data removed]",
            "text/plain": [
              "<Figure size 1080x360 with 1 Axes>"
            ]
          },
          "metadata": {
            "tags": [],
            "needs_background": "light"
          }
        }
      ]
    },
    {
      "cell_type": "code",
      "metadata": {
        "colab": {
          "base_uri": "https://localhost:8080/"
        },
        "id": "6WANH0FdRT94",
        "outputId": "b61d15b0-135c-4234-8fb7-f433ee12f55a"
      },
      "source": [
        "model.cpu()"
      ],
      "execution_count": null,
      "outputs": [
        {
          "output_type": "execute_result",
          "data": {
            "text/plain": [
              "RNN(\n",
              "  (embedding): Embedding(29376, 300)\n",
              "  (lstm): LSTM(300, 512, num_layers=2)\n",
              "  (classifier): Sequential(\n",
              "    (0): Linear(in_features=512, out_features=1024, bias=True)\n",
              "    (1): Linear(in_features=1024, out_features=29376, bias=True)\n",
              "  )\n",
              ")"
            ]
          },
          "metadata": {
            "tags": []
          },
          "execution_count": 17
        }
      ]
    },
    {
      "cell_type": "code",
      "metadata": {
        "colab": {
          "base_uri": "https://localhost:8080/"
        },
        "id": "DeSE0R9qEW4G",
        "outputId": "0040df48-aaef-4752-f706-f9c4647b05f0"
      },
      "source": [
        "ansver = list()\n",
        "for _ in range(10):\n",
        "  result = model.generate(vocab)\n",
        "  ansver.append(result + 2*'\\n')\n",
        "\n",
        "print(*ansver)"
      ],
      "execution_count": null,
      "outputs": [
        {
          "output_type": "stream",
          "text": [
            "/usr/local/lib/python3.6/dist-packages/ipykernel_launcher.py:40: UserWarning: Implicit dimension choice for softmax has been deprecated. Change the call to include dim=X as an argument.\n"
          ],
          "name": "stderr"
        },
        {
          "output_type": "stream",
          "text": [
            "wrapped over in june definitely coffee through school and a few years from the last years tour astray <eos> \n",
            "\n",
            " now all patriots the world in men are either in the derogatory men <eos> \n",
            "\n",
            " i guess that compared to me would think of music as the arts couldnt aspire to be taught me was feeling such love but i like to her fun <eos> \n",
            "\n",
            " i want to be the underdog i love again we better <eos> \n",
            "\n",
            " i really wanted to go to keep taking in tour but as service as there is to say <eos> \n",
            "\n",
            " i feel fooling by leather and tomato navigation so i often think of the senate and the web realization of uncomfortable <eos> \n",
            "\n",
            " weve been treated in a medium on this city dark - rather stuff less than to have a very big cousin trap and theyll when there are certain problems and voluntary the best you can go on and say love even means <eos> \n",
            "\n",
            " when someone injury you take your dollars then you still hope over all <eos> \n",
            "\n",
            " it is the glory of flux building brimming requires outer instructions <eos> \n",
            "\n",
            " when a man he had a wonderful childhood could not refer to his own policy he saddam him who honesty and equally gifted is to recognize him in the past <eos> \n",
            "\n",
            "\n"
          ],
          "name": "stdout"
        }
      ]
    }
  ]
}
